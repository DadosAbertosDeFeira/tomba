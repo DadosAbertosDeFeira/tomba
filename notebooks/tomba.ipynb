{
 "cells": [
  {
   "cell_type": "code",
   "execution_count": 2,
   "id": "liked-meaning",
   "metadata": {},
   "outputs": [],
   "source": [
    "from tomba.tomba import get_locations"
   ]
  },
  {
   "cell_type": "code",
   "execution_count": 4,
   "id": "fifteen-orlando",
   "metadata": {},
   "outputs": [
    {
     "data": {
      "text/plain": [
       "[{'type': 'ZIPCODE', 'start': 92, 'end': 101},\n",
       " {'type': 'state', 'start': 133, 'end': 138}]"
      ]
     },
     "execution_count": 4,
     "metadata": {},
     "output_type": "execute_result"
    }
   ],
   "source": [
    "get_locations(\n",
    "    \"Contratação de empresa de engenharia para executar obras de pavimentação \"\n",
    "    \"localizados no CEP 44100-000, no bairro Tomba, no estado da Bahia.\"\n",
    ")"
   ]
  },
  {
   "cell_type": "code",
   "execution_count": 5,
   "id": "appointed-primary",
   "metadata": {},
   "outputs": [
    {
     "data": {
      "text/plain": [
       "[{'type': 'state', 'start': 12, 'end': 14}]"
      ]
     },
     "execution_count": 5,
     "metadata": {},
     "output_type": "execute_result"
    }
   ],
   "source": [
    "get_locations(\"Ele mora no ES.\")"
   ]
  }
 ],
 "metadata": {
  "kernelspec": {
   "display_name": "Python 3",
   "language": "python",
   "name": "python3"
  },
  "language_info": {
   "codemirror_mode": {
    "name": "ipython",
    "version": 3
   },
   "file_extension": ".py",
   "mimetype": "text/x-python",
   "name": "python",
   "nbconvert_exporter": "python",
   "pygments_lexer": "ipython3",
   "version": "3.8.5"
  }
 },
 "nbformat": 4,
 "nbformat_minor": 5
}
