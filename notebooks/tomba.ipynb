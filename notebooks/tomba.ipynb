{
 "cells": [
  {
   "cell_type": "code",
   "execution_count": 2,
   "id": "liked-meaning",
   "metadata": {},
   "outputs": [
    {
     "name": "stderr",
     "output_type": "stream",
     "text": [
      "/Users/ana.gomes/Library/Caches/pypoetry/virtualenvs/tomba-wu_HeHWT-py3.8/lib/python3.8/site-packages/spacy/util.py:877: UserWarning: [W095] Model 'pt_pipeline' (0.0.0) was trained with spaCy v3.0 and may not be 100% compatible with the current version (3.5.0). If you see errors or degraded performance, download a newer compatible model or retrain your custom model with the current spaCy version. For more details and available updates, run: python -m spacy validate\n",
      "  warnings.warn(warn_msg)\n"
     ]
    }
   ],
   "source": [
    "from tomba.tomba import get_locations"
   ]
  },
  {
   "cell_type": "code",
   "execution_count": 4,
   "id": "fifteen-orlando",
   "metadata": {},
   "outputs": [
    {
     "data": {
      "text/plain": [
       "[{'type': 'ZIPCODE', 'start': 92, 'end': 101},\n",
       " {'type': 'state', 'start': 133, 'end': 138}]"
      ]
     },
     "execution_count": 4,
     "metadata": {},
     "output_type": "execute_result"
    }
   ],
   "source": [
    "get_locations(\n",
    "    \"Contratação de empresa de engenharia para executar obras de pavimentação \"\n",
    "    \"localizados no CEP 44100-000, no bairro Tomba, no estado da Bahia.\"\n",
    ")"
   ]
  },
  {
   "cell_type": "code",
   "execution_count": 4,
   "id": "fcbdcace",
   "metadata": {},
   "outputs": [
    {
     "data": {
      "text/plain": [
       "[{'type': 'STATE', 'start': 19, 'end': 24},\n",
       " {'type': 'STATE', 'start': 30, 'end': 42}]"
      ]
     },
     "execution_count": 4,
     "metadata": {},
     "output_type": "execute_result"
    }
   ],
   "source": [
    "get_locations(\"Estamos morando na Bahia e em Minas Gerais\")"
   ]
  },
  {
   "cell_type": "code",
   "execution_count": 5,
   "id": "appointed-primary",
   "metadata": {},
   "outputs": [
    {
     "data": {
      "text/plain": [
       "[{'type': 'state', 'start': 12, 'end': 14}]"
      ]
     },
     "execution_count": 5,
     "metadata": {},
     "output_type": "execute_result"
    }
   ],
   "source": [
    "get_locations(\"Ele mora no ES.\")"
   ]
  }
 ],
 "metadata": {
  "kernelspec": {
   "display_name": "Python 3 (ipykernel)",
   "language": "python",
   "name": "python3"
  },
  "language_info": {
   "codemirror_mode": {
    "name": "ipython",
    "version": 3
   },
   "file_extension": ".py",
   "mimetype": "text/x-python",
   "name": "python",
   "nbconvert_exporter": "python",
   "pygments_lexer": "ipython3",
   "version": "3.8.12"
  }
 },
 "nbformat": 4,
 "nbformat_minor": 5
}
