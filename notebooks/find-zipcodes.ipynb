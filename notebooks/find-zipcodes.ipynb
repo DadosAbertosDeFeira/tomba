{
 "cells": [
  {
   "cell_type": "code",
   "execution_count": 73,
   "metadata": {},
   "outputs": [],
   "source": [
    "import spacy\n",
    "from spacy import displacy\n",
    "\n",
    "\n",
    "nlp = spacy.load(\"../models/pt_core_news_sm_addresses\")"
   ]
  },
  {
   "cell_type": "code",
   "execution_count": 74,
   "metadata": {},
   "outputs": [],
   "source": [
    "text_with_zipcodes = [\n",
    "    \"Conceder a LICENÇA DE   ALTERAÇÃO –(LA), 44550-090 e  44.550-090  com   prazo   de   validade   até 01/10/2022,   aoempreendimento  Posto  Conterrâneo  Derivados  de  petróleo  Ltda.–Nome  Fantasia  Posto  Conterrâneo,  inscrita  no CNPJ  sob  o  Nº: 40.549.628/0001-65 e  inscrição  municipal  Nº 18.921-9, localizada  na  Avenida  Eduardo  Fróes  da Mota, 1680, Sim, Feira de Santana, Bahia. CEP: 44.050-024, nas Coordenadas Geográficas: (GMS): 12º15’11,9” Se 38º55’55,1”\",\n",
    "    \"Apresentar  Outorga  do  INEMA  para  Utilização  de  Recursos  Hídricos  do  Poço  Artesiano  tubular instalado  no  endereço  Av.  Eduardo  Fróes  da  Mota,  1680,  SIM,  Feira  de  Santana,  Bahia.  CEP:  44.050-024,  na Coordenada Geográfica 12º15 ́11,5 ́ ́ S e 38º55 ́55,9 ́ ́ W. Prazo: Renovação da Licença\",\n",
    "    \"Conceder  a  renovação  da LICENÇA  AMBIENTAL  DE  OPERAÇÃO -LAO,  válida  pelo  prazo  de  05 (cinco)  anos  à  empresa BioÓleo –Industrial  e  Comercio  S/A,  inscrita  no  CNPJ  sob  nº.  CNPJ:  08.892.216/0001-10, Inscrição Estadual: 074.296.871NO, e Inscrição Municipal: 36.863-6, com sede na Avenida Deputado Luís Eduardo Magalhães, S/N, Limoeiro, Feira De Santana –BA, CEP: 44.097-324, para exercer atividade de Fabricação de óleos vegetais  (extração  e  refino),\",\n",
    "    \"Art.  1º.Conceder  a LICENÇA  UNIFICADA –LU,  com  validade  de  03(três)  anos,  para  a  empresa  TREVO DERIVADOS DE PETRÓLEO LTDA –POSTO TREVO 01, inscrito no CNPJ N° 14.486.153/0001-03, com sede na BR 116, Km.  20,  s/n°,  Novo  Horizonte,  Feira  de  Santana –Bahia,  CEP:  44.100-000,  implantar  e  funcionar  um  Posto  de Combustível  na  Avenida  Francisco  Fraga  Maia,  lotes  (27,  28,  29  e  30)  Quadra  L,  Loteamento  Nossa  Senhora  de Fátima II, Cidade Nova, Feira de Santana –BA, nas coordenadas geográficas 12°12'53.00\\\"S e 38°57'6.09\\\"O,    para desenvolver  a  atividade  de  comércio   varejista  de  combustíveis  para  veículos  automotores,  etanol  comum hidratado,  gasolina  comum  e  aditivada,  e  óleo  diesel  S10  e  S500,  com  capacidade  de  armazenamento  de  60  m³, em  terreno  com  área  total  de  1.543,75 m²,  e  área  construída  de  317,32  m².\",\n",
    "    \"A Prefeitura Municipal de Feira de Santana, pessoa jurídica de direito público, com sede à Av. Senhor dos Passos, 980 - Centro, Feira de Santana - BA, CEP: 44002-024, inscrita no CNPJ sob o nº 15.043.574/0001-51, representado neste ato pelo Prefeito, Colbert Martins da Silva Filho, no uso de suas prerrogativas legais, e considerando o disposto no art.19 da Lei 10.696/2003, Edital 004/2012, no Termo de Adesão nº 0201/2012, e no Plano Operacional nº 3629/2020-DS-2910800 vem, por intermédio da Secretaria Municipal do Trabalho, Turismo e Desenvolvimento  Econômico  -  SETTDEC,  realizar  Chamada  Pública  para  aquisição  de gêneros  alimentícios,  no  âmbito  do  Programa  de  Aquisição  de  Alimentos  -  PAA,  de agricultores familiares enquadrados no Programa Nacional de Fortalecimento da Agricultura Familiar – PRONAF.\",\n",
    "    \"Secretaria Municipal de Administração Departamento de Gestão de Compras e Contratações - DGCC Av. Sampaio, nº 344, Centro, Feira de Santana/BA, CEP: 44.001-584. Tel.: (75) 3602-8333/8345\",\n",
    "    \"Empresa: Implantar –Segurança e Medicina do Trabalho CNPJ: 22.015.205/0001-83 Endereço: Professor Leonidio Rocha, nº 437 Centro CEP: 44001-512 Fone: (75) 3221-2016  (75) 3023-2356Pessoa responsável: Geórgia dos Santos\",\n",
    "    \"Os  candidatos  abaixo  listados  devem  apresentar  osdocumentos  bem  como,  os  resultados  de  exames  médicos  e laboratoriais abaixo relacionados, na Gerência de Recursos Humanos, no prédio principal da Câmara Municipal de Feira de Santana, situada na Av. Visconde do Rio Branco, 122, Centro, CEP: 44002-175, Feira de Santana -BA, no período de 24abrila 23de maiode 2019, das 09:00 às 12:00 horas, de segunda-feira a sexta-feira\"\n",
    "]"
   ]
  },
  {
   "cell_type": "markdown",
   "metadata": {},
   "source": [
    "A anatomia de um CEP:\n",
    "    \n",
    "> CEP: 44.097-324\n",
    "\n",
    "Encontrando CEPs usando o _Matcher_:"
   ]
  },
  {
   "cell_type": "markdown",
   "metadata": {},
   "source": [
    "Quando criando um novo _matcher_ é importante verificar como o Spacy\n",
    "tokeniza o objeto desejado. Para isso você pode checar o texto e o formato:\n",
    "\n",
    "```\n",
    "for text in text_with_zipcodes:\n",
    "    doc = nlp(text)\n",
    "    for t in doc:\n",
    "        print(t.text, t.shape_)\n",
    "```"
   ]
  },
  {
   "cell_type": "code",
   "execution_count": 82,
   "metadata": {},
   "outputs": [
    {
     "name": "stdout",
     "output_type": "stream",
     "text": [
      "zipcode 11 12 44550-090\n",
      "zipcode 14 16 44.550-090\n",
      "zipcode 98 100 44.050-024\n",
      "zipcode 61 63 44.050-024\n",
      "zipcode 97 99 44.097-324\n",
      "zipcode 83 85 44.100-000\n",
      "zipcode 34 35 44002-024\n",
      "zipcode 29 31 44.001-584\n",
      "zipcode 24 25 44001-512\n",
      "zipcode 65 66 44002-175\n"
     ]
    }
   ],
   "source": [
    "from spacy.matcher import Matcher\n",
    "\n",
    "\n",
    "matcher = Matcher(nlp.vocab)\n",
    "\n",
    "pattern_with_dot = [  # 44.050-024\n",
    "    {\"SHAPE\": \"dd.\"}, {\"SHAPE\": \"ddd-ddd\"}\n",
    "]\n",
    "pattern_without_dot = [  # 44050-024\n",
    "    {\"SHAPE\": \"dddd-ddd\"}\n",
    "]\n",
    "matcher.add(\"zipcode\", [pattern_with_dot, pattern_without_dot])\n",
    "\n",
    "for text in text_with_zipcodes:\n",
    "    doc = nlp(text)\n",
    "    matches = matcher(doc)\n",
    "    for match_id, start, end in matches:\n",
    "        string_id = nlp.vocab.strings[match_id]\n",
    "        span = doc[start:end]\n",
    "        print(string_id, start, end, span.text)\n"
   ]
  },
  {
   "cell_type": "markdown",
   "metadata": {},
   "source": [
    "O CEP é um exemplo que é bem direto e que pode ser resolvido tranquilamente\n",
    "com regex. O spacy facilita isso também:"
   ]
  },
  {
   "cell_type": "code",
   "execution_count": 83,
   "metadata": {},
   "outputs": [
    {
     "name": "stdout",
     "output_type": "stream",
     "text": [
      "Found match: 44550-090\n",
      "Found match: 44.550-090\n",
      "Found match: 44.050-024\n",
      "Found match: 44.050-024\n",
      "Found match: 44.097-324\n",
      "Found match: 44.100-000\n",
      "Found match: 44002-024\n",
      "Found match: 44.001-584\n",
      "Found match: 44001-512\n",
      "Found match: 44002-175\n"
     ]
    }
   ],
   "source": [
    "import re\n",
    "\n",
    "expression = r\"\\d{2}\\.?\\d{3}-\\d{3}\"\n",
    "\n",
    "for text in text_with_zipcodes:\n",
    "    doc = nlp(text)\n",
    "    for match in re.finditer(expression, doc.text):\n",
    "        start, end = match.span()\n",
    "        span = doc.char_span(start, end)\n",
    "        # This is a Span object or None if match doesn't map to valid token sequence\n",
    "        if span is not None:\n",
    "            print(\"Found match:\", span.text)\n"
   ]
  }
 ],
 "metadata": {
  "kernelspec": {
   "display_name": "Python 3",
   "language": "python",
   "name": "python3"
  },
  "language_info": {
   "codemirror_mode": {
    "name": "ipython",
    "version": 3
   },
   "file_extension": ".py",
   "mimetype": "text/x-python",
   "name": "python",
   "nbconvert_exporter": "python",
   "pygments_lexer": "ipython3",
   "version": "3.8.5"
  }
 },
 "nbformat": 4,
 "nbformat_minor": 4
}
