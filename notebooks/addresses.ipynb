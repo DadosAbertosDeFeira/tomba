{
 "cells": [
  {
   "cell_type": "code",
   "execution_count": 1,
   "metadata": {},
   "outputs": [],
   "source": [
    "import spacy\n",
    "from spacy import displacy\n",
    "\n",
    "\n",
    "nlp = spacy.load(\"pt_core_news_sm\")"
   ]
  },
  {
   "cell_type": "code",
   "execution_count": 2,
   "metadata": {},
   "outputs": [],
   "source": [
    "text_set = [\n",
    "    \"Conceder a LICENÇA DE   ALTERAÇÃO –(LA), 44550-090 e  44.550-090  com   prazo   de   validade   até 01/10/2022,   aoempreendimento  Posto  Conterrâneo  Derivados  de  petróleo  Ltda.–Nome  Fantasia  Posto  Conterrâneo,  inscrita  no CNPJ  sob  o  Nº: 40.549.628/0001-65 e  inscrição  municipal  Nº 18.921-9, localizada  na  Avenida  Eduardo  Fróes  da Mota, 1680, Sim, Feira de Santana, Bahia. CEP: 44.050-024, nas Coordenadas Geográficas: (GMS): 12º15’11,9” Se 38º55’55,1”\",\n",
    "    \"Conceder  a  renovação  da LICENÇA  AMBIENTAL  DE  OPERAÇÃO -LAO,  válida  pelo  prazo  de  05 (cinco)  anos  à  empresa BioÓleo –Industrial  e  Comercio  S/A,  inscrita  no  CNPJ  sob  nº.  CNPJ:  08.892.216/0001-10, Inscrição Estadual: 074.296.871NO, e Inscrição Municipal: 36.863-6, com sede na Avenida Deputado Luís Eduardo Magalhães, S/N, Limoeiro, Feira De Santana –BA, CEP: 44.097-324, para exercer atividade de Fabricação de óleos vegetais  (extração  e  refino),\",\n",
    "    \"Art.  1º.Conceder  a LICENÇA  UNIFICADA –LU,  com  validade  de  03(três)  anos,  para  a  empresa  TREVO DERIVADOS DE PETRÓLEO LTDA –POSTO TREVO 01, inscrito no CNPJ N° 14.486.153/0001-03, com sede na BR 116, Km.  20,  s/n°,  Novo  Horizonte,  Feira  de  Santana –Bahia,  CEP:  44.100-000,  implantar  e  funcionar  um  Posto  de Combustível  na  Avenida  Francisco  Fraga  Maia,  lotes  (27,  28,  29  e  30)  Quadra  L,  Loteamento  Nossa  Senhora  de Fátima II, Cidade Nova, Feira de Santana –BA, nas coordenadas geográficas 12°12'53.00\\\"S e 38°57'6.09\\\"O,    para desenvolver  a  atividade  de  comércio   varejista  de  combustíveis  para  veículos  automotores,  etanol  comum hidratado,  gasolina  comum  e  aditivada,  e  óleo  diesel  S10  e  S500,  com  capacidade  de  armazenamento  de  60  m³, em  terreno  com  área  total  de  1.543,75 m²,  e  área  construída  de  317,32  m².\",\n",
    "    \"A Prefeitura Municipal de Feira de Santana, pessoa jurídica de direito público, com sede à Av. Senhor dos Passos, 980 - Centro, Feira de Santana - BA, CEP: 44002-024, inscrita no CNPJ sob o nº 15.043.574/0001-51, representado neste ato pelo Prefeito, Colbert Martins da Silva Filho, no uso de suas prerrogativas legais, e considerando o disposto no art.19 da Lei 10.696/2003, Edital 004/2012, no Termo de Adesão nº 0201/2012, e no Plano Operacional nº 3629/2020-DS-2910800 vem, por intermédio da Secretaria Municipal do Trabalho, Turismo e Desenvolvimento  Econômico  -  SETTDEC,  realizar  Chamada  Pública  para  aquisição  de gêneros  alimentícios,  no  âmbito  do  Programa  de  Aquisição  de  Alimentos  -  PAA,  de agricultores familiares enquadrados no Programa Nacional de Fortalecimento da Agricultura Familiar – PRONAF.\",\n",
    "    \"Secretaria Municipal de Administração Departamento de Gestão de Compras e Contratações - DGCC Av. Sampaio, nº 344, Centro, Feira de Santana/BA, CEP: 44.001-584. Tel.: (75) 3602-8333/8345\",\n",
    "    \"Empresa: Implantar –Segurança e Medicina do Trabalho CNPJ: 22.015.205/0001-83 Endereço: Professor Leonidio Rocha, nº 437 Centro CEP: 44001-512 Fone: (75) 3221-2016  (75) 3023-2356Pessoa responsável: Geórgia dos Santos\",\n",
    "    \"Os  candidatos  abaixo  listados  devem  apresentar  osdocumentos  bem  como,  os  resultados  de  exames  médicos  e laboratoriais abaixo relacionados, na Gerência de Recursos Humanos, no prédio principal da Câmara Municipal de Feira de Santana, situada na Av. Visconde do Rio Branco, 122, Centro, CEP: 44002-175, Feira de Santana -BA, no período de 24abrila 23de maiode 2019, das 09:00 às 12:00 horas, de segunda-feira a sexta-feira\"\n",
    "]\n",
    "\n",
    "text_set = [\n",
    "    \"localizada na Avenida Eduardo Fróes da Mota, 1680, Sim, Feira de Santana, Bahia. CEP: 44.050-024, nas Coordenadas Geográficas: (GMS): 12º15’11,9” Se 38º55’55,1”\",\n",
    "    \"com sede na Avenida Deputado Luís Eduardo Magalhães, S/N, Limoeiro, Feira De Santana –BA, CEP: 44.097-324\",\n",
    "    \"com sede na BR 116, Km. 20, s/n°, Novo Horizonte, Feira de Santana –Bahia, CEP: 44.100-000\",\n",
    "    \"com sede à Av. Senhor dos Passos, 980 - Centro, Feira de Santana - BA, CEP: 44002-024\",\n",
    "    \"Departamento de Gestão de Compras e Contratações - DGCC Av. Sampaio, nº 344, Centro, Feira de Santana/BA, CEP: 44.001-584. Tel.: (75) 3602-8333/8345\",\n",
    "    \"Empresa: Implantar –Segurança e Medicina do Trabalho CNPJ: 22.015.205/0001-83 Endereço: Professor Leonidio Rocha, nº 437 Centro CEP: 44001-512\",\n",
    "    \"no prédio principal da Câmara Municipal de Feira de Santana, situada na Av. Visconde do Rio Branco, 122, Centro, CEP: 44002-175, Feira de Santana -BA\",\n",
    "    \"Contratação de empresa de engenharia para executar obras de pavimentação em paralelepípedos na rua 5 e nas 1ª e 3ª travessas da rua 5, localizadas no conjunto João Paulo I, bairro Mangabeira, neste município.\",\n",
    "    \"Contratação de empresa de engenharia para executar obras de pavimentação em paralelepípedo em diversas ruas localizadas no Distrito de Humildes.\"\n",
    "]"
   ]
  },
  {
   "cell_type": "markdown",
   "metadata": {},
   "source": [
    "Exemplos de endereços:\n",
    "    \n",
    "> localizada  na  Avenida  Eduardo  Fróes  da Mota, 1680, Sim, Feira de Santana, Bahia. CEP: 44.050-024, nas Coordenadas Geográficas: (GMS): 12º15’11,9” Se 38º55’55,1”\n",
    "\n",
    "> com sede na Avenida Deputado Luís Eduardo Magalhães, S/N, Limoeiro, Feira De Santana –BA, CEP: 44.097-324\n",
    "\n",
    "> com sede na BR 116, Km.  20,  s/n°,  Novo  Horizonte,  Feira  de  Santana –Bahia,  CEP:  44.100-000\n",
    "\n",
    "> com sede à Av. Senhor dos Passos, 980 - Centro, Feira de Santana - BA, CEP: 44002-024\n",
    "\n",
    "> Departamento de Gestão de Compras e Contratações - DGCC Av. Sampaio, nº 344, Centro, Feira de Santana/BA, CEP: 44.001-584. Tel.: (75) 3602-8333/8345\n",
    "\n",
    "> Empresa: Implantar –Segurança e Medicina do Trabalho CNPJ: 22.015.205/0001-83 Endereço: Professor Leonidio Rocha, nº 437 Centro CEP: 44001-512\n",
    "\n",
    "> no prédio principal da Câmara Municipal de Feira de Santana, situada na Av. Visconde do Rio Branco, 122, Centro, CEP: 44002-175, Feira de Santana -BA\n",
    "\n",
    "https://explosion.ai/demos/displacy?text=O%20pr%C3%A9dio%20principal%20da%20C%C3%A2mara%20Municipal%20de%20Feira%20de%20Santana%20est%C3%A1%20situada%20na%20Av.%20Visconde%20do%20Rio%20Braco%2C%20122%2C%20Centro%2C%20CEP%3A%2044002-175%2C%20Feira%20de%20Santana%20-%20BA.&model=pt_core_news_sm&cpu=1&cph=1\n",
    "\n",
    "https://explosion.ai/demos/displacy-ent?text=O%20pr%C3%A9dio%20principal%20da%20C%C3%A2mara%20Municipal%20de%20Feira%20de%20Santana%20est%C3%A1%20situada%20na%20Av.%20Visconde%20do%20Rio%20Braco%2C%20122%2C%20Centro%2C%20CEP%3A%2044002-175%2C%20Feira%20de%20Santana%20-%20BA.&model=pt_core_news_sm&ents=person%2Corg%2Cgpe%2Cloc%2Cproduct%2Cnorp%2Cdate%2Cper%2Cmisc"
   ]
  },
  {
   "cell_type": "code",
   "execution_count": 7,
   "metadata": {},
   "outputs": [
    {
     "data": {
      "text/html": [
       "<span class=\"tex2jax_ignore\"><div class=\"entities\" style=\"line-height: 2.5; direction: ltr\">O prédio principal da \n",
       "<mark class=\"entity\" style=\"background: #ff9561; padding: 0.45em 0.6em; margin: 0 0.25em; line-height: 1; border-radius: 0.35em;\">\n",
       "    Câmara Municipal de Feira de Santana\n",
       "    <span style=\"font-size: 0.8em; font-weight: bold; line-height: 1; border-radius: 0.35em; vertical-align: middle; margin-left: 0.5rem\">LOC</span>\n",
       "</mark>\n",
       " está situada na \n",
       "<mark class=\"entity\" style=\"background: #ff9561; padding: 0.45em 0.6em; margin: 0 0.25em; line-height: 1; border-radius: 0.35em;\">\n",
       "    Av. Visconde do Rio Braco\n",
       "    <span style=\"font-size: 0.8em; font-weight: bold; line-height: 1; border-radius: 0.35em; vertical-align: middle; margin-left: 0.5rem\">LOC</span>\n",
       "</mark>\n",
       ", 122, \n",
       "<mark class=\"entity\" style=\"background: #ff9561; padding: 0.45em 0.6em; margin: 0 0.25em; line-height: 1; border-radius: 0.35em;\">\n",
       "    Centro\n",
       "    <span style=\"font-size: 0.8em; font-weight: bold; line-height: 1; border-radius: 0.35em; vertical-align: middle; margin-left: 0.5rem\">LOC</span>\n",
       "</mark>\n",
       ", CEP: 44002-175, \n",
       "<mark class=\"entity\" style=\"background: #ff9561; padding: 0.45em 0.6em; margin: 0 0.25em; line-height: 1; border-radius: 0.35em;\">\n",
       "    Feira de Santana\n",
       "    <span style=\"font-size: 0.8em; font-weight: bold; line-height: 1; border-radius: 0.35em; vertical-align: middle; margin-left: 0.5rem\">LOC</span>\n",
       "</mark>\n",
       " - \n",
       "<mark class=\"entity\" style=\"background: #ff9561; padding: 0.45em 0.6em; margin: 0 0.25em; line-height: 1; border-radius: 0.35em;\">\n",
       "    BA\n",
       "    <span style=\"font-size: 0.8em; font-weight: bold; line-height: 1; border-radius: 0.35em; vertical-align: middle; margin-left: 0.5rem\">LOC</span>\n",
       "</mark>\n",
       ".</div></span>"
      ],
      "text/plain": [
       "<IPython.core.display.HTML object>"
      ]
     },
     "metadata": {},
     "output_type": "display_data"
    }
   ],
   "source": [
    "doc = nlp(\"O prédio principal da Câmara Municipal de Feira de Santana está situada na Av. Visconde do Rio Braco, 122, Centro, CEP: 44002-175, Feira de Santana - BA.\")\n",
    "displacy.render(doc, style='ent', jupyter=True)"
   ]
  },
  {
   "cell_type": "code",
   "execution_count": 9,
   "metadata": {},
   "outputs": [
    {
     "name": "stdout",
     "output_type": "stream",
     "text": [
      "O X\n",
      "prédio xxxx\n",
      "principal xxxx\n",
      "da xx\n",
      "Câmara Xxxxx\n",
      "Municipal Xxxxx\n",
      "de xx\n",
      "Feira Xxxxx\n",
      "de xx\n",
      "Santana Xxxxx\n",
      "está xxxx\n",
      "situada xxxx\n",
      "na xx\n",
      "Av. Xx.\n",
      "Visconde Xxxxx\n",
      "do xx\n",
      "Rio Xxx\n",
      "Braco Xxxxx\n",
      ", ,\n",
      "122 ddd\n",
      ", ,\n",
      "Centro Xxxxx\n",
      ", ,\n",
      "CEP XXX\n",
      ": :\n",
      "44002-175 dddd-ddd\n",
      ", ,\n",
      "Feira Xxxxx\n",
      "de xx\n",
      "Santana Xxxxx\n",
      "- -\n",
      "BA XX\n",
      ". .\n",
      "Câmara Municipal de Feira de Santana LOC\n",
      "Av. Visconde do Rio Braco LOC\n",
      "Centro LOC\n",
      "Feira de Santana LOC\n",
      "BA LOC\n"
     ]
    }
   ],
   "source": [
    "for t in doc:\n",
    "    print(t.text, t.shape_)\n",
    "for ent in doc.ents:\n",
    "    print(ent.text, ent.label_)"
   ]
  },
  {
   "cell_type": "code",
   "execution_count": 11,
   "metadata": {},
   "outputs": [
    {
     "name": "stdout",
     "output_type": "stream",
     "text": [
      "------------------------\n",
      "localizada na Avenida Eduardo Fróes da Mota, 1680, Sim, Feira de Santana, Bahia. CEP: 44.050-024, nas Coordenadas Geográficas: (GMS): 12º15’11,9” Se 38º55’55,1”\n"
     ]
    },
    {
     "data": {
      "text/html": [
       "<span class=\"tex2jax_ignore\"><div class=\"entities\" style=\"line-height: 2.5; direction: ltr\">localizada na \n",
       "<mark class=\"entity\" style=\"background: #ff9561; padding: 0.45em 0.6em; margin: 0 0.25em; line-height: 1; border-radius: 0.35em;\">\n",
       "    Avenida Eduardo Fróes da Mota\n",
       "    <span style=\"font-size: 0.8em; font-weight: bold; line-height: 1; border-radius: 0.35em; vertical-align: middle; margin-left: 0.5rem\">LOC</span>\n",
       "</mark>\n",
       ", 1680, \n",
       "<mark class=\"entity\" style=\"background: #ff9561; padding: 0.45em 0.6em; margin: 0 0.25em; line-height: 1; border-radius: 0.35em;\">\n",
       "    Sim\n",
       "    <span style=\"font-size: 0.8em; font-weight: bold; line-height: 1; border-radius: 0.35em; vertical-align: middle; margin-left: 0.5rem\">LOC</span>\n",
       "</mark>\n",
       ", \n",
       "<mark class=\"entity\" style=\"background: #ff9561; padding: 0.45em 0.6em; margin: 0 0.25em; line-height: 1; border-radius: 0.35em;\">\n",
       "    Feira de Santana\n",
       "    <span style=\"font-size: 0.8em; font-weight: bold; line-height: 1; border-radius: 0.35em; vertical-align: middle; margin-left: 0.5rem\">LOC</span>\n",
       "</mark>\n",
       ", \n",
       "<mark class=\"entity\" style=\"background: #ff9561; padding: 0.45em 0.6em; margin: 0 0.25em; line-height: 1; border-radius: 0.35em;\">\n",
       "    Bahia\n",
       "    <span style=\"font-size: 0.8em; font-weight: bold; line-height: 1; border-radius: 0.35em; vertical-align: middle; margin-left: 0.5rem\">LOC</span>\n",
       "</mark>\n",
       ". CEP: 44.050-024, nas \n",
       "<mark class=\"entity\" style=\"background: #ddd; padding: 0.45em 0.6em; margin: 0 0.25em; line-height: 1; border-radius: 0.35em;\">\n",
       "    Coordenadas Geográficas\n",
       "    <span style=\"font-size: 0.8em; font-weight: bold; line-height: 1; border-radius: 0.35em; vertical-align: middle; margin-left: 0.5rem\">MISC</span>\n",
       "</mark>\n",
       ": (\n",
       "<mark class=\"entity\" style=\"background: #ddd; padding: 0.45em 0.6em; margin: 0 0.25em; line-height: 1; border-radius: 0.35em;\">\n",
       "    GMS\n",
       "    <span style=\"font-size: 0.8em; font-weight: bold; line-height: 1; border-radius: 0.35em; vertical-align: middle; margin-left: 0.5rem\">MISC</span>\n",
       "</mark>\n",
       "): \n",
       "<mark class=\"entity\" style=\"background: #ddd; padding: 0.45em 0.6em; margin: 0 0.25em; line-height: 1; border-radius: 0.35em;\">\n",
       "    12º15’11,9\n",
       "    <span style=\"font-size: 0.8em; font-weight: bold; line-height: 1; border-radius: 0.35em; vertical-align: middle; margin-left: 0.5rem\">MISC</span>\n",
       "</mark>\n",
       "” Se 38º55’55,1”</div></span>"
      ],
      "text/plain": [
       "<IPython.core.display.HTML object>"
      ]
     },
     "metadata": {},
     "output_type": "display_data"
    },
    {
     "name": "stdout",
     "output_type": "stream",
     "text": [
      "------------------------\n",
      "com sede na Avenida Deputado Luís Eduardo Magalhães, S/N, Limoeiro, Feira De Santana –BA, CEP: 44.097-324\n"
     ]
    },
    {
     "data": {
      "text/html": [
       "<span class=\"tex2jax_ignore\"><div class=\"entities\" style=\"line-height: 2.5; direction: ltr\">com sede na \n",
       "<mark class=\"entity\" style=\"background: #ff9561; padding: 0.45em 0.6em; margin: 0 0.25em; line-height: 1; border-radius: 0.35em;\">\n",
       "    Avenida Deputado Luís Eduardo Magalhães\n",
       "    <span style=\"font-size: 0.8em; font-weight: bold; line-height: 1; border-radius: 0.35em; vertical-align: middle; margin-left: 0.5rem\">LOC</span>\n",
       "</mark>\n",
       ", \n",
       "<mark class=\"entity\" style=\"background: #ff9561; padding: 0.45em 0.6em; margin: 0 0.25em; line-height: 1; border-radius: 0.35em;\">\n",
       "    S\n",
       "    <span style=\"font-size: 0.8em; font-weight: bold; line-height: 1; border-radius: 0.35em; vertical-align: middle; margin-left: 0.5rem\">LOC</span>\n",
       "</mark>\n",
       "/\n",
       "<mark class=\"entity\" style=\"background: #ff9561; padding: 0.45em 0.6em; margin: 0 0.25em; line-height: 1; border-radius: 0.35em;\">\n",
       "    N\n",
       "    <span style=\"font-size: 0.8em; font-weight: bold; line-height: 1; border-radius: 0.35em; vertical-align: middle; margin-left: 0.5rem\">LOC</span>\n",
       "</mark>\n",
       ", \n",
       "<mark class=\"entity\" style=\"background: #ff9561; padding: 0.45em 0.6em; margin: 0 0.25em; line-height: 1; border-radius: 0.35em;\">\n",
       "    Limoeiro\n",
       "    <span style=\"font-size: 0.8em; font-weight: bold; line-height: 1; border-radius: 0.35em; vertical-align: middle; margin-left: 0.5rem\">LOC</span>\n",
       "</mark>\n",
       ", \n",
       "<mark class=\"entity\" style=\"background: #ff9561; padding: 0.45em 0.6em; margin: 0 0.25em; line-height: 1; border-radius: 0.35em;\">\n",
       "    Feira\n",
       "    <span style=\"font-size: 0.8em; font-weight: bold; line-height: 1; border-radius: 0.35em; vertical-align: middle; margin-left: 0.5rem\">LOC</span>\n",
       "</mark>\n",
       " De Santana –BA, CEP: 44.097-324</div></span>"
      ],
      "text/plain": [
       "<IPython.core.display.HTML object>"
      ]
     },
     "metadata": {},
     "output_type": "display_data"
    },
    {
     "name": "stdout",
     "output_type": "stream",
     "text": [
      "------------------------\n",
      "com sede na BR 116, Km. 20, s/n°, Novo Horizonte, Feira de Santana –Bahia, CEP: 44.100-000\n"
     ]
    },
    {
     "data": {
      "text/html": [
       "<span class=\"tex2jax_ignore\"><div class=\"entities\" style=\"line-height: 2.5; direction: ltr\">com sede na \n",
       "<mark class=\"entity\" style=\"background: #ff9561; padding: 0.45em 0.6em; margin: 0 0.25em; line-height: 1; border-radius: 0.35em;\">\n",
       "    BR 116\n",
       "    <span style=\"font-size: 0.8em; font-weight: bold; line-height: 1; border-radius: 0.35em; vertical-align: middle; margin-left: 0.5rem\">LOC</span>\n",
       "</mark>\n",
       ", \n",
       "<mark class=\"entity\" style=\"background: #ff9561; padding: 0.45em 0.6em; margin: 0 0.25em; line-height: 1; border-radius: 0.35em;\">\n",
       "    Km\n",
       "    <span style=\"font-size: 0.8em; font-weight: bold; line-height: 1; border-radius: 0.35em; vertical-align: middle; margin-left: 0.5rem\">LOC</span>\n",
       "</mark>\n",
       ". 20, s/n°, \n",
       "<mark class=\"entity\" style=\"background: #ff9561; padding: 0.45em 0.6em; margin: 0 0.25em; line-height: 1; border-radius: 0.35em;\">\n",
       "    Novo Horizonte\n",
       "    <span style=\"font-size: 0.8em; font-weight: bold; line-height: 1; border-radius: 0.35em; vertical-align: middle; margin-left: 0.5rem\">LOC</span>\n",
       "</mark>\n",
       ", \n",
       "<mark class=\"entity\" style=\"background: #ff9561; padding: 0.45em 0.6em; margin: 0 0.25em; line-height: 1; border-radius: 0.35em;\">\n",
       "    Feira de Santana\n",
       "    <span style=\"font-size: 0.8em; font-weight: bold; line-height: 1; border-radius: 0.35em; vertical-align: middle; margin-left: 0.5rem\">LOC</span>\n",
       "</mark>\n",
       " –\n",
       "<mark class=\"entity\" style=\"background: #ff9561; padding: 0.45em 0.6em; margin: 0 0.25em; line-height: 1; border-radius: 0.35em;\">\n",
       "    Bahia\n",
       "    <span style=\"font-size: 0.8em; font-weight: bold; line-height: 1; border-radius: 0.35em; vertical-align: middle; margin-left: 0.5rem\">LOC</span>\n",
       "</mark>\n",
       ", CEP: 44.100-000</div></span>"
      ],
      "text/plain": [
       "<IPython.core.display.HTML object>"
      ]
     },
     "metadata": {},
     "output_type": "display_data"
    },
    {
     "name": "stdout",
     "output_type": "stream",
     "text": [
      "------------------------\n",
      "com sede à Av. Senhor dos Passos, 980 - Centro, Feira de Santana - BA, CEP: 44002-024\n"
     ]
    },
    {
     "data": {
      "text/html": [
       "<span class=\"tex2jax_ignore\"><div class=\"entities\" style=\"line-height: 2.5; direction: ltr\">com sede à \n",
       "<mark class=\"entity\" style=\"background: #ddd; padding: 0.45em 0.6em; margin: 0 0.25em; line-height: 1; border-radius: 0.35em;\">\n",
       "    Av. Senhor dos Passos\n",
       "    <span style=\"font-size: 0.8em; font-weight: bold; line-height: 1; border-radius: 0.35em; vertical-align: middle; margin-left: 0.5rem\">MISC</span>\n",
       "</mark>\n",
       ", 980 - \n",
       "<mark class=\"entity\" style=\"background: #ff9561; padding: 0.45em 0.6em; margin: 0 0.25em; line-height: 1; border-radius: 0.35em;\">\n",
       "    Centro\n",
       "    <span style=\"font-size: 0.8em; font-weight: bold; line-height: 1; border-radius: 0.35em; vertical-align: middle; margin-left: 0.5rem\">LOC</span>\n",
       "</mark>\n",
       ", \n",
       "<mark class=\"entity\" style=\"background: #ff9561; padding: 0.45em 0.6em; margin: 0 0.25em; line-height: 1; border-radius: 0.35em;\">\n",
       "    Feira de Santana\n",
       "    <span style=\"font-size: 0.8em; font-weight: bold; line-height: 1; border-radius: 0.35em; vertical-align: middle; margin-left: 0.5rem\">LOC</span>\n",
       "</mark>\n",
       " - \n",
       "<mark class=\"entity\" style=\"background: #ff9561; padding: 0.45em 0.6em; margin: 0 0.25em; line-height: 1; border-radius: 0.35em;\">\n",
       "    BA\n",
       "    <span style=\"font-size: 0.8em; font-weight: bold; line-height: 1; border-radius: 0.35em; vertical-align: middle; margin-left: 0.5rem\">LOC</span>\n",
       "</mark>\n",
       ", CEP: 44002-024</div></span>"
      ],
      "text/plain": [
       "<IPython.core.display.HTML object>"
      ]
     },
     "metadata": {},
     "output_type": "display_data"
    },
    {
     "name": "stdout",
     "output_type": "stream",
     "text": [
      "------------------------\n",
      "Departamento de Gestão de Compras e Contratações - DGCC Av. Sampaio, nº 344, Centro, Feira de Santana/BA, CEP: 44.001-584. Tel.: (75) 3602-8333/8345\n"
     ]
    },
    {
     "data": {
      "text/html": [
       "<span class=\"tex2jax_ignore\"><div class=\"entities\" style=\"line-height: 2.5; direction: ltr\">\n",
       "<mark class=\"entity\" style=\"background: #ff9561; padding: 0.45em 0.6em; margin: 0 0.25em; line-height: 1; border-radius: 0.35em;\">\n",
       "    Departamento de Gestão de Compras\n",
       "    <span style=\"font-size: 0.8em; font-weight: bold; line-height: 1; border-radius: 0.35em; vertical-align: middle; margin-left: 0.5rem\">LOC</span>\n",
       "</mark>\n",
       " e \n",
       "<mark class=\"entity\" style=\"background: #ff9561; padding: 0.45em 0.6em; margin: 0 0.25em; line-height: 1; border-radius: 0.35em;\">\n",
       "    Contratações\n",
       "    <span style=\"font-size: 0.8em; font-weight: bold; line-height: 1; border-radius: 0.35em; vertical-align: middle; margin-left: 0.5rem\">LOC</span>\n",
       "</mark>\n",
       " - \n",
       "<mark class=\"entity\" style=\"background: #7aecec; padding: 0.45em 0.6em; margin: 0 0.25em; line-height: 1; border-radius: 0.35em;\">\n",
       "    DGCC Av. Sampaio\n",
       "    <span style=\"font-size: 0.8em; font-weight: bold; line-height: 1; border-radius: 0.35em; vertical-align: middle; margin-left: 0.5rem\">ORG</span>\n",
       "</mark>\n",
       ", nº 344, \n",
       "<mark class=\"entity\" style=\"background: #ff9561; padding: 0.45em 0.6em; margin: 0 0.25em; line-height: 1; border-radius: 0.35em;\">\n",
       "    Centro\n",
       "    <span style=\"font-size: 0.8em; font-weight: bold; line-height: 1; border-radius: 0.35em; vertical-align: middle; margin-left: 0.5rem\">LOC</span>\n",
       "</mark>\n",
       ", \n",
       "<mark class=\"entity\" style=\"background: #ff9561; padding: 0.45em 0.6em; margin: 0 0.25em; line-height: 1; border-radius: 0.35em;\">\n",
       "    Feira de Santana\n",
       "    <span style=\"font-size: 0.8em; font-weight: bold; line-height: 1; border-radius: 0.35em; vertical-align: middle; margin-left: 0.5rem\">LOC</span>\n",
       "</mark>\n",
       "/\n",
       "<mark class=\"entity\" style=\"background: #ff9561; padding: 0.45em 0.6em; margin: 0 0.25em; line-height: 1; border-radius: 0.35em;\">\n",
       "    BA\n",
       "    <span style=\"font-size: 0.8em; font-weight: bold; line-height: 1; border-radius: 0.35em; vertical-align: middle; margin-left: 0.5rem\">LOC</span>\n",
       "</mark>\n",
       ", CEP: 44.001-584. Tel.: (75) 3602-8333/8345</div></span>"
      ],
      "text/plain": [
       "<IPython.core.display.HTML object>"
      ]
     },
     "metadata": {},
     "output_type": "display_data"
    },
    {
     "name": "stdout",
     "output_type": "stream",
     "text": [
      "------------------------\n",
      "Empresa: Implantar –Segurança e Medicina do Trabalho CNPJ: 22.015.205/0001-83 Endereço: Professor Leonidio Rocha, nº 437 Centro CEP: 44001-512\n"
     ]
    },
    {
     "data": {
      "text/html": [
       "<span class=\"tex2jax_ignore\"><div class=\"entities\" style=\"line-height: 2.5; direction: ltr\">Empresa: Implantar –Segurança e \n",
       "<mark class=\"entity\" style=\"background: #ff9561; padding: 0.45em 0.6em; margin: 0 0.25em; line-height: 1; border-radius: 0.35em;\">\n",
       "    Medicina do Trabalho CNPJ\n",
       "    <span style=\"font-size: 0.8em; font-weight: bold; line-height: 1; border-radius: 0.35em; vertical-align: middle; margin-left: 0.5rem\">LOC</span>\n",
       "</mark>\n",
       ": 22.015.205/0001-83 \n",
       "<mark class=\"entity\" style=\"background: #ddd; padding: 0.45em 0.6em; margin: 0 0.25em; line-height: 1; border-radius: 0.35em;\">\n",
       "    Endereço\n",
       "    <span style=\"font-size: 0.8em; font-weight: bold; line-height: 1; border-radius: 0.35em; vertical-align: middle; margin-left: 0.5rem\">MISC</span>\n",
       "</mark>\n",
       ": \n",
       "<mark class=\"entity\" style=\"background: #ddd; padding: 0.45em 0.6em; margin: 0 0.25em; line-height: 1; border-radius: 0.35em;\">\n",
       "    Professor Leonidio Rocha\n",
       "    <span style=\"font-size: 0.8em; font-weight: bold; line-height: 1; border-radius: 0.35em; vertical-align: middle; margin-left: 0.5rem\">PER</span>\n",
       "</mark>\n",
       ", nº 437 \n",
       "<mark class=\"entity\" style=\"background: #ff9561; padding: 0.45em 0.6em; margin: 0 0.25em; line-height: 1; border-radius: 0.35em;\">\n",
       "    Centro\n",
       "    <span style=\"font-size: 0.8em; font-weight: bold; line-height: 1; border-radius: 0.35em; vertical-align: middle; margin-left: 0.5rem\">LOC</span>\n",
       "</mark>\n",
       " CEP: 44001-512</div></span>"
      ],
      "text/plain": [
       "<IPython.core.display.HTML object>"
      ]
     },
     "metadata": {},
     "output_type": "display_data"
    },
    {
     "name": "stdout",
     "output_type": "stream",
     "text": [
      "------------------------\n",
      "no prédio principal da Câmara Municipal de Feira de Santana, situada na Av. Visconde do Rio Branco, 122, Centro, CEP: 44002-175, Feira de Santana -BA\n"
     ]
    },
    {
     "data": {
      "text/html": [
       "<span class=\"tex2jax_ignore\"><div class=\"entities\" style=\"line-height: 2.5; direction: ltr\">no prédio principal da \n",
       "<mark class=\"entity\" style=\"background: #ff9561; padding: 0.45em 0.6em; margin: 0 0.25em; line-height: 1; border-radius: 0.35em;\">\n",
       "    Câmara Municipal de Feira de Santana\n",
       "    <span style=\"font-size: 0.8em; font-weight: bold; line-height: 1; border-radius: 0.35em; vertical-align: middle; margin-left: 0.5rem\">LOC</span>\n",
       "</mark>\n",
       ", situada na \n",
       "<mark class=\"entity\" style=\"background: #ddd; padding: 0.45em 0.6em; margin: 0 0.25em; line-height: 1; border-radius: 0.35em;\">\n",
       "    Av. Visconde do Rio Branco\n",
       "    <span style=\"font-size: 0.8em; font-weight: bold; line-height: 1; border-radius: 0.35em; vertical-align: middle; margin-left: 0.5rem\">MISC</span>\n",
       "</mark>\n",
       ", 122, \n",
       "<mark class=\"entity\" style=\"background: #ff9561; padding: 0.45em 0.6em; margin: 0 0.25em; line-height: 1; border-radius: 0.35em;\">\n",
       "    Centro\n",
       "    <span style=\"font-size: 0.8em; font-weight: bold; line-height: 1; border-radius: 0.35em; vertical-align: middle; margin-left: 0.5rem\">LOC</span>\n",
       "</mark>\n",
       ", CEP: 44002-175, \n",
       "<mark class=\"entity\" style=\"background: #ff9561; padding: 0.45em 0.6em; margin: 0 0.25em; line-height: 1; border-radius: 0.35em;\">\n",
       "    Feira de Santana\n",
       "    <span style=\"font-size: 0.8em; font-weight: bold; line-height: 1; border-radius: 0.35em; vertical-align: middle; margin-left: 0.5rem\">LOC</span>\n",
       "</mark>\n",
       " -BA</div></span>"
      ],
      "text/plain": [
       "<IPython.core.display.HTML object>"
      ]
     },
     "metadata": {},
     "output_type": "display_data"
    },
    {
     "name": "stdout",
     "output_type": "stream",
     "text": [
      "------------------------\n",
      "Contratação de empresa de engenharia para executar obras de pavimentação em paralelepípedos na rua 5 e nas 1ª e 3ª travessas da rua 5, localizadas no conjunto João Paulo I, bairro Mangabeira, neste município.\n"
     ]
    },
    {
     "data": {
      "text/html": [
       "<span class=\"tex2jax_ignore\"><div class=\"entities\" style=\"line-height: 2.5; direction: ltr\">Contratação de empresa de engenharia para executar obras de pavimentação em paralelepípedos na rua 5 e nas 1ª e 3ª travessas da rua 5, localizadas no conjunto \n",
       "<mark class=\"entity\" style=\"background: #ddd; padding: 0.45em 0.6em; margin: 0 0.25em; line-height: 1; border-radius: 0.35em;\">\n",
       "    João Paulo I\n",
       "    <span style=\"font-size: 0.8em; font-weight: bold; line-height: 1; border-radius: 0.35em; vertical-align: middle; margin-left: 0.5rem\">PER</span>\n",
       "</mark>\n",
       ", bairro \n",
       "<mark class=\"entity\" style=\"background: #ff9561; padding: 0.45em 0.6em; margin: 0 0.25em; line-height: 1; border-radius: 0.35em;\">\n",
       "    Mangabeira\n",
       "    <span style=\"font-size: 0.8em; font-weight: bold; line-height: 1; border-radius: 0.35em; vertical-align: middle; margin-left: 0.5rem\">LOC</span>\n",
       "</mark>\n",
       ", neste município.</div></span>"
      ],
      "text/plain": [
       "<IPython.core.display.HTML object>"
      ]
     },
     "metadata": {},
     "output_type": "display_data"
    },
    {
     "name": "stdout",
     "output_type": "stream",
     "text": [
      "------------------------\n",
      "Contratação de empresa de engenharia para executar obras de pavimentação em paralelepípedo em diversas ruas localizadas no Distrito de Humildes.\n"
     ]
    },
    {
     "data": {
      "text/html": [
       "<span class=\"tex2jax_ignore\"><div class=\"entities\" style=\"line-height: 2.5; direction: ltr\">Contratação de empresa de engenharia para executar obras de pavimentação em paralelepípedo em diversas ruas localizadas no \n",
       "<mark class=\"entity\" style=\"background: #ff9561; padding: 0.45em 0.6em; margin: 0 0.25em; line-height: 1; border-radius: 0.35em;\">\n",
       "    Distrito de Humildes\n",
       "    <span style=\"font-size: 0.8em; font-weight: bold; line-height: 1; border-radius: 0.35em; vertical-align: middle; margin-left: 0.5rem\">LOC</span>\n",
       "</mark>\n",
       ".</div></span>"
      ],
      "text/plain": [
       "<IPython.core.display.HTML object>"
      ]
     },
     "metadata": {},
     "output_type": "display_data"
    }
   ],
   "source": [
    "for text in text_set:\n",
    "    print(\"------------------------\")\n",
    "    print(text)\n",
    "    doc = nlp(text)\n",
    "    displacy.render(doc, style='ent', jupyter=True)"
   ]
  }
 ],
 "metadata": {
  "kernelspec": {
   "display_name": "Python 3",
   "language": "python",
   "name": "python3"
  },
  "language_info": {
   "codemirror_mode": {
    "name": "ipython",
    "version": 3
   },
   "file_extension": ".py",
   "mimetype": "text/x-python",
   "name": "python",
   "nbconvert_exporter": "python",
   "pygments_lexer": "ipython3",
   "version": "3.8.5"
  }
 },
 "nbformat": 4,
 "nbformat_minor": 4
}
